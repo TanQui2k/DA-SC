{
 "cells": [
  {
   "cell_type": "code",
   "execution_count": 40,
   "metadata": {
    "executionInfo": {
     "elapsed": 5,
     "status": "ok",
     "timestamp": 1747799364765,
     "user": {
      "displayName": "Tấn Qui",
      "userId": "17800040836516717575"
     },
     "user_tz": -420
    },
    "id": "AQOlfw5BPcEq"
   },
   "outputs": [],
   "source": [
    "# 1. Import thư viện\n",
    "from VNSfinance import history\n",
    "import pandas as pd\n",
    "import ta\n",
    "from prophet import Prophet\n",
    "from sklearn.metrics import mean_absolute_error, mean_squared_error\n",
    "import numpy as np"
   ]
  },
  {
   "cell_type": "code",
   "execution_count": 41,
   "metadata": {
    "colab": {
     "base_uri": "https://localhost:8080/",
     "height": 408
    },
    "executionInfo": {
     "elapsed": 1188,
     "status": "error",
     "timestamp": 1747799367279,
     "user": {
      "displayName": "Tấn Qui",
      "userId": "17800040836516717575"
     },
     "user_tz": -420
    },
    "id": "9vJARVj6Pdl3",
    "outputId": "e2c5c45d-bf7b-4cbd-e351-225094b45245"
   },
   "outputs": [],
   "source": [
    "# 2. Load dữ liệu cổ phiếu\n",
    "df = history(symbol='PLX', start='2020-01-01', end=pd.Timestamp.today().strftime('%Y-%m-%d'), interval='ONE_DAY')\n",
    "df.rename(columns={'time': 'ds', 'close': 'y'}, inplace=True)\n",
    "df['ds'] = pd.to_datetime(df['ds'])\n",
    "df.sort_values('ds', inplace=True)"
   ]
  },
  {
   "cell_type": "code",
   "execution_count": 42,
   "metadata": {},
   "outputs": [
    {
     "data": {
      "text/html": [
       "<div>\n",
       "<style scoped>\n",
       "    .dataframe tbody tr th:only-of-type {\n",
       "        vertical-align: middle;\n",
       "    }\n",
       "\n",
       "    .dataframe tbody tr th {\n",
       "        vertical-align: top;\n",
       "    }\n",
       "\n",
       "    .dataframe thead th {\n",
       "        text-align: right;\n",
       "    }\n",
       "</style>\n",
       "<table border=\"1\" class=\"dataframe\">\n",
       "  <thead>\n",
       "    <tr style=\"text-align: right;\">\n",
       "      <th></th>\n",
       "      <th>symbol</th>\n",
       "      <th>ds</th>\n",
       "      <th>open</th>\n",
       "      <th>high</th>\n",
       "      <th>low</th>\n",
       "      <th>y</th>\n",
       "      <th>volume</th>\n",
       "    </tr>\n",
       "  </thead>\n",
       "  <tbody>\n",
       "    <tr>\n",
       "      <th>678</th>\n",
       "      <td>PLX</td>\n",
       "      <td>2020-01-02</td>\n",
       "      <td>44.93210</td>\n",
       "      <td>45.73302</td>\n",
       "      <td>44.37145</td>\n",
       "      <td>45.25247</td>\n",
       "      <td>380760</td>\n",
       "    </tr>\n",
       "    <tr>\n",
       "      <th>679</th>\n",
       "      <td>PLX</td>\n",
       "      <td>2020-01-03</td>\n",
       "      <td>45.33256</td>\n",
       "      <td>46.53395</td>\n",
       "      <td>45.33256</td>\n",
       "      <td>45.73302</td>\n",
       "      <td>586600</td>\n",
       "    </tr>\n",
       "    <tr>\n",
       "      <th>680</th>\n",
       "      <td>PLX</td>\n",
       "      <td>2020-01-06</td>\n",
       "      <td>46.45386</td>\n",
       "      <td>46.45386</td>\n",
       "      <td>45.73302</td>\n",
       "      <td>45.89321</td>\n",
       "      <td>497990</td>\n",
       "    </tr>\n",
       "    <tr>\n",
       "      <th>681</th>\n",
       "      <td>PLX</td>\n",
       "      <td>2020-01-07</td>\n",
       "      <td>46.05340</td>\n",
       "      <td>46.05340</td>\n",
       "      <td>45.17237</td>\n",
       "      <td>45.25247</td>\n",
       "      <td>290780</td>\n",
       "    </tr>\n",
       "    <tr>\n",
       "      <th>682</th>\n",
       "      <td>PLX</td>\n",
       "      <td>2020-01-08</td>\n",
       "      <td>45.65293</td>\n",
       "      <td>45.65293</td>\n",
       "      <td>44.53163</td>\n",
       "      <td>44.61172</td>\n",
       "      <td>237220</td>\n",
       "    </tr>\n",
       "  </tbody>\n",
       "</table>\n",
       "</div>"
      ],
      "text/plain": [
       "    symbol         ds      open      high       low         y  volume\n",
       "678    PLX 2020-01-02  44.93210  45.73302  44.37145  45.25247  380760\n",
       "679    PLX 2020-01-03  45.33256  46.53395  45.33256  45.73302  586600\n",
       "680    PLX 2020-01-06  46.45386  46.45386  45.73302  45.89321  497990\n",
       "681    PLX 2020-01-07  46.05340  46.05340  45.17237  45.25247  290780\n",
       "682    PLX 2020-01-08  45.65293  45.65293  44.53163  44.61172  237220"
      ]
     },
     "execution_count": 42,
     "metadata": {},
     "output_type": "execute_result"
    }
   ],
   "source": [
    "df.head()"
   ]
  },
  {
   "cell_type": "code",
   "execution_count": 43,
   "metadata": {
    "id": "PGqUlBUtPp-3"
   },
   "outputs": [],
   "source": [
    "# 3. Tính chỉ báo kỹ thuật\n",
    "df['ema20'] = ta.trend.EMAIndicator(df['y'], 20).ema_indicator()\n",
    "macd = ta.trend.MACD(df['y'])\n",
    "df['macd'] = macd.macd()\n",
    "df['macd_signal'] = macd.macd_signal()\n",
    "df['adx'] = ta.trend.ADXIndicator(df['high'], df['low'], df['y']).adx()\n",
    "df['psar'] = ta.trend.PSARIndicator(df['high'], df['low'], df['y']).psar()\n",
    "\n",
    "df['rsi'] = ta.momentum.RSIIndicator(df['y']).rsi()\n",
    "df['roc'] = ta.momentum.ROCIndicator(df['y']).roc()\n",
    "df['cci'] = ta.trend.CCIIndicator(df['high'], df['low'], df['y']).cci()\n",
    "df['williams_r'] = ta.momentum.WilliamsRIndicator(df['high'], df['low'], df['y']).williams_r()\n",
    "df['stoch'] = ta.momentum.StochasticOscillator(df['high'], df['low'], df['y']).stoch()\n",
    "\n",
    "\n",
    "df['obv'] = ta.volume.OnBalanceVolumeIndicator(df['y'], df['volume']).on_balance_volume()\n",
    "df['mfi'] = ta.volume.MFIIndicator(df['high'], df['low'], df['y'], df['volume']).money_flow_index()\n",
    "df['cmf'] = ta.volume.ChaikinMoneyFlowIndicator(df['high'], df['low'], df['y'], df['volume']).chaikin_money_flow()\n",
    "\n",
    "df['atr'] = ta.volatility.AverageTrueRange(df['high'], df['low'], df['y']).average_true_range()\n",
    "bb = ta.volatility.BollingerBands(df['y'])\n",
    "df['bollinger_h'] = bb.bollinger_hband()\n",
    "df['bollinger_l'] = bb.bollinger_lband()\n",
    "dc = ta.volatility.DonchianChannel(df['high'], df['low'], df['y'])\n",
    "df['donchian_h'] = dc.donchian_channel_hband()\n",
    "df['donchian_l'] = dc.donchian_channel_lband()\n"
   ]
  },
  {
   "cell_type": "code",
   "execution_count": 44,
   "metadata": {
    "id": "HadoSCQ8P9NJ"
   },
   "outputs": [],
   "source": [
    "# 4. Loại bỏ các dòng NaN do tính chỉ báo\n",
    "df.dropna(inplace=True)"
   ]
  },
  {
   "cell_type": "code",
   "execution_count": 45,
   "metadata": {},
   "outputs": [],
   "source": [
    "from sklearn.preprocessing import StandardScaler\n",
    "\n",
    "# Chọn các cột chỉ báo để scale\n",
    "features = ['ema20','psar','rsi','obv','bollinger_h','bollinger_l','atr','macd','macd_signal']\n",
    "\n",
    "# Scale các chỉ báo\n",
    "scaler = StandardScaler()\n",
    "df[features] = scaler.fit_transform(df[features])"
   ]
  },
  {
   "cell_type": "code",
   "execution_count": 46,
   "metadata": {
    "id": "3yKg8cMKP_Uk"
   },
   "outputs": [],
   "source": [
    "# 5. Chia tập train/test theo tỷ lệ 80:20\n",
    "split_index = int(len(df) * 0.8)\n",
    "train_df = df.iloc[:split_index]\n",
    "test_df = df.iloc[split_index:]"
   ]
  },
  {
   "cell_type": "code",
   "execution_count": 47,
   "metadata": {},
   "outputs": [],
   "source": [
    "from sklearn.preprocessing import MinMaxScaler\n",
    "\n",
    "def prepare_scaled_data(df, top_features):\n",
    "    # Chỉ scale các chỉ báo ngoại sinh\n",
    "    scaler = MinMaxScaler()\n",
    "    scaled_features = scaler.fit_transform(df[top_features])\n",
    "    scaled_df = df[['y']].copy()\n",
    "    for i, col in enumerate(top_features):\n",
    "        scaled_df[col] = scaled_features[:, i]\n",
    "    \n",
    "    scaled_df['ds'] = df.index\n",
    "    scaled_df = scaled_df[['ds', 'y'] + top_features]\n",
    "    return scaled_df, scaler\n"
   ]
  },
  {
   "cell_type": "code",
   "execution_count": 48,
   "metadata": {},
   "outputs": [
    {
     "name": "stderr",
     "output_type": "stream",
     "text": [
      "13:06:21 - cmdstanpy - INFO - Chain [1] start processing\n"
     ]
    },
    {
     "name": "stdout",
     "output_type": "stream",
     "text": [
      "🔍 Tuning hyperparameters...\n"
     ]
    },
    {
     "name": "stderr",
     "output_type": "stream",
     "text": [
      "13:06:21 - cmdstanpy - INFO - Chain [1] done processing\n",
      "Seasonality has period of 365.25 days which is larger than initial window. Consider increasing initial.\n"
     ]
    },
    {
     "name": "stdout",
     "output_type": "stream",
     "text": [
      "Params: {'changepoint_prior_scale': 0.05, 'seasonality_prior_scale': 1.0, 'seasonality_mode': 'additive'}, RMSE: 0.99\n"
     ]
    },
    {
     "name": "stderr",
     "output_type": "stream",
     "text": [
      "13:06:29 - cmdstanpy - INFO - Chain [1] start processing\n",
      "13:06:30 - cmdstanpy - INFO - Chain [1] done processing\n",
      "Seasonality has period of 365.25 days which is larger than initial window. Consider increasing initial.\n"
     ]
    },
    {
     "name": "stdout",
     "output_type": "stream",
     "text": [
      "Params: {'changepoint_prior_scale': 0.05, 'seasonality_prior_scale': 5.0, 'seasonality_mode': 'additive'}, RMSE: 0.99\n"
     ]
    },
    {
     "name": "stderr",
     "output_type": "stream",
     "text": [
      "13:06:36 - cmdstanpy - INFO - Chain [1] start processing\n",
      "13:06:36 - cmdstanpy - INFO - Chain [1] done processing\n",
      "Seasonality has period of 365.25 days which is larger than initial window. Consider increasing initial.\n"
     ]
    },
    {
     "name": "stdout",
     "output_type": "stream",
     "text": [
      "Params: {'changepoint_prior_scale': 0.001, 'seasonality_prior_scale': 10.0, 'seasonality_mode': 'multiplicative'}, RMSE: 0.58\n"
     ]
    },
    {
     "name": "stderr",
     "output_type": "stream",
     "text": [
      "13:06:43 - cmdstanpy - INFO - Chain [1] start processing\n",
      "13:06:44 - cmdstanpy - INFO - Chain [1] done processing\n",
      "Seasonality has period of 365.25 days which is larger than initial window. Consider increasing initial.\n"
     ]
    },
    {
     "name": "stdout",
     "output_type": "stream",
     "text": [
      "Params: {'changepoint_prior_scale': 0.5, 'seasonality_prior_scale': 5.0, 'seasonality_mode': 'multiplicative'}, RMSE: 1.15\n"
     ]
    },
    {
     "name": "stderr",
     "output_type": "stream",
     "text": [
      "13:06:53 - cmdstanpy - INFO - Chain [1] start processing\n",
      "13:06:53 - cmdstanpy - INFO - Chain [1] done processing\n",
      "Seasonality has period of 365.25 days which is larger than initial window. Consider increasing initial.\n"
     ]
    },
    {
     "name": "stdout",
     "output_type": "stream",
     "text": [
      "Params: {'changepoint_prior_scale': 0.001, 'seasonality_prior_scale': 1.0, 'seasonality_mode': 'multiplicative'}, RMSE: 0.58\n"
     ]
    },
    {
     "name": "stderr",
     "output_type": "stream",
     "text": [
      "13:07:00 - cmdstanpy - INFO - Chain [1] start processing\n",
      "13:07:00 - cmdstanpy - INFO - Chain [1] done processing\n",
      "Seasonality has period of 365.25 days which is larger than initial window. Consider increasing initial.\n"
     ]
    },
    {
     "name": "stdout",
     "output_type": "stream",
     "text": [
      "Params: {'changepoint_prior_scale': 0.01, 'seasonality_prior_scale': 20.0, 'seasonality_mode': 'additive'}, RMSE: 0.70\n"
     ]
    },
    {
     "name": "stderr",
     "output_type": "stream",
     "text": [
      "13:07:05 - cmdstanpy - INFO - Chain [1] start processing\n",
      "13:07:06 - cmdstanpy - INFO - Chain [1] done processing\n",
      "Seasonality has period of 365.25 days which is larger than initial window. Consider increasing initial.\n"
     ]
    },
    {
     "name": "stdout",
     "output_type": "stream",
     "text": [
      "Params: {'changepoint_prior_scale': 0.001, 'seasonality_prior_scale': 1.0, 'seasonality_mode': 'additive'}, RMSE: 0.60\n"
     ]
    },
    {
     "name": "stderr",
     "output_type": "stream",
     "text": [
      "13:07:12 - cmdstanpy - INFO - Chain [1] start processing\n",
      "13:07:13 - cmdstanpy - INFO - Chain [1] done processing\n",
      "Seasonality has period of 365.25 days which is larger than initial window. Consider increasing initial.\n"
     ]
    },
    {
     "name": "stdout",
     "output_type": "stream",
     "text": [
      "Params: {'changepoint_prior_scale': 0.05, 'seasonality_prior_scale': 5.0, 'seasonality_mode': 'multiplicative'}, RMSE: 1.05\n"
     ]
    },
    {
     "name": "stderr",
     "output_type": "stream",
     "text": [
      "13:07:22 - cmdstanpy - INFO - Chain [1] start processing\n",
      "13:07:24 - cmdstanpy - INFO - Chain [1] done processing\n",
      "Seasonality has period of 365.25 days which is larger than initial window. Consider increasing initial.\n"
     ]
    },
    {
     "name": "stdout",
     "output_type": "stream",
     "text": [
      "Params: {'changepoint_prior_scale': 0.1, 'seasonality_prior_scale': 20.0, 'seasonality_mode': 'multiplicative'}, RMSE: 1.13\n"
     ]
    },
    {
     "name": "stderr",
     "output_type": "stream",
     "text": [
      "13:07:32 - cmdstanpy - INFO - Chain [1] start processing\n",
      "13:07:33 - cmdstanpy - INFO - Chain [1] done processing\n",
      "Seasonality has period of 365.25 days which is larger than initial window. Consider increasing initial.\n"
     ]
    },
    {
     "name": "stdout",
     "output_type": "stream",
     "text": [
      "Params: {'changepoint_prior_scale': 0.5, 'seasonality_prior_scale': 20.0, 'seasonality_mode': 'multiplicative'}, RMSE: 1.16\n"
     ]
    },
    {
     "name": "stderr",
     "output_type": "stream",
     "text": [
      "13:07:43 - cmdstanpy - INFO - Chain [1] start processing\n",
      "13:07:43 - cmdstanpy - INFO - Chain [1] done processing\n",
      "Seasonality has period of 365.25 days which is larger than initial window. Consider increasing initial.\n"
     ]
    },
    {
     "name": "stdout",
     "output_type": "stream",
     "text": [
      "Params: {'changepoint_prior_scale': 0.01, 'seasonality_prior_scale': 10.0, 'seasonality_mode': 'additive'}, RMSE: 0.71\n"
     ]
    },
    {
     "name": "stderr",
     "output_type": "stream",
     "text": [
      "13:07:48 - cmdstanpy - INFO - Chain [1] start processing\n",
      "13:07:48 - cmdstanpy - INFO - Chain [1] done processing\n",
      "Seasonality has period of 365.25 days which is larger than initial window. Consider increasing initial.\n"
     ]
    },
    {
     "name": "stdout",
     "output_type": "stream",
     "text": [
      "Params: {'changepoint_prior_scale': 0.001, 'seasonality_prior_scale': 20.0, 'seasonality_mode': 'additive'}, RMSE: 0.60\n"
     ]
    },
    {
     "name": "stderr",
     "output_type": "stream",
     "text": [
      "13:07:54 - cmdstanpy - INFO - Chain [1] start processing\n",
      "13:07:55 - cmdstanpy - INFO - Chain [1] done processing\n",
      "Seasonality has period of 365.25 days which is larger than initial window. Consider increasing initial.\n"
     ]
    },
    {
     "name": "stdout",
     "output_type": "stream",
     "text": [
      "Params: {'changepoint_prior_scale': 0.1, 'seasonality_prior_scale': 5.0, 'seasonality_mode': 'multiplicative'}, RMSE: 1.13\n"
     ]
    },
    {
     "name": "stderr",
     "output_type": "stream",
     "text": [
      "13:08:06 - cmdstanpy - INFO - Chain [1] start processing\n",
      "13:08:06 - cmdstanpy - INFO - Chain [1] done processing\n",
      "Seasonality has period of 365.25 days which is larger than initial window. Consider increasing initial.\n"
     ]
    },
    {
     "name": "stdout",
     "output_type": "stream",
     "text": [
      "Params: {'changepoint_prior_scale': 0.05, 'seasonality_prior_scale': 10.0, 'seasonality_mode': 'multiplicative'}, RMSE: 1.03\n"
     ]
    },
    {
     "name": "stderr",
     "output_type": "stream",
     "text": [
      "13:08:15 - cmdstanpy - INFO - Chain [1] start processing\n",
      "13:08:15 - cmdstanpy - INFO - Chain [1] done processing\n",
      "Seasonality has period of 365.25 days which is larger than initial window. Consider increasing initial.\n"
     ]
    },
    {
     "name": "stdout",
     "output_type": "stream",
     "text": [
      "Params: {'changepoint_prior_scale': 0.05, 'seasonality_prior_scale': 10.0, 'seasonality_mode': 'additive'}, RMSE: 0.99\n",
      "🎯 Best Params Found: {'changepoint_prior_scale': 0.001, 'seasonality_prior_scale': 10.0, 'seasonality_mode': 'multiplicative'}\n"
     ]
    }
   ],
   "source": [
    "from prophet.diagnostics import cross_validation, performance_metrics\n",
    "from prophet import Prophet\n",
    "from itertools import product\n",
    "import random\n",
    "\n",
    "# Define search space\n",
    "param_grid = {\n",
    "    'changepoint_prior_scale': [0.001, 0.01, 0.05, 0.1, 0.5],\n",
    "    'seasonality_prior_scale': [1.0, 5.0, 10.0, 20.0],\n",
    "    'seasonality_mode': ['additive', 'multiplicative']\n",
    "}\n",
    "\n",
    "# Create a list of all possible combinations\n",
    "all_params = [dict(zip(param_grid, v)) for v in product(*param_grid.values())]\n",
    "random.shuffle(all_params)  # Optional: randomize to speed up\n",
    "\n",
    "features = ['rsi', 'macd', 'macd_signal', 'ema20', 'roc', 'williams_r', 'cci']\n",
    "best_params = None\n",
    "best_rmse = float('inf')\n",
    "\n",
    "print(\"🔍 Tuning hyperparameters...\")\n",
    "\n",
    "for params in all_params[:15]:  # kiểm tra 15 cấu hình đầu tiên\n",
    "    model = Prophet(\n",
    "        changepoint_prior_scale=params['changepoint_prior_scale'],\n",
    "        seasonality_prior_scale=params['seasonality_prior_scale'],\n",
    "        seasonality_mode=params['seasonality_mode'],\n",
    "        daily_seasonality=False\n",
    "    )\n",
    "    \n",
    "    for reg in features:\n",
    "        model.add_regressor(reg)\n",
    "\n",
    "    model.fit(train_df[['ds', 'y'] + features])\n",
    "\n",
    "    # Cross-validation trên tập train\n",
    "    df_cv = cross_validation(model, horizon='30 days', initial='365 days', period='90 days', parallel=\"processes\")\n",
    "    df_p = performance_metrics(df_cv, rolling_window=1)\n",
    "\n",
    "    rmse = df_p['rmse'].values[0]\n",
    "\n",
    "    print(f\"Params: {params}, RMSE: {rmse:.2f}\")\n",
    "    \n",
    "    if rmse < best_rmse:\n",
    "        best_rmse = rmse\n",
    "        best_params = params\n",
    "\n",
    "print(\"🎯 Best Params Found:\", best_params)\n"
   ]
  },
  {
   "cell_type": "code",
   "execution_count": 49,
   "metadata": {
    "id": "U429hlTFg128"
   },
   "outputs": [],
   "source": [
    "from prophet import Prophet\n",
    "\n",
    "model = Prophet(\n",
    "    changepoint_prior_scale=best_params['changepoint_prior_scale'],\n",
    "    seasonality_prior_scale=best_params['seasonality_prior_scale'],\n",
    "    seasonality_mode=best_params['seasonality_mode'],\n",
    "    daily_seasonality=False\n",
    ")\n"
   ]
  },
  {
   "cell_type": "code",
   "execution_count": 50,
   "metadata": {},
   "outputs": [],
   "source": [
    "for reg in features:\n",
    "    model.add_regressor(reg)"
   ]
  },
  {
   "cell_type": "code",
   "execution_count": 51,
   "metadata": {
    "colab": {
     "base_uri": "https://localhost:8080/"
    },
    "executionInfo": {
     "elapsed": 2910,
     "status": "ok",
     "timestamp": 1747633529464,
     "user": {
      "displayName": "Tấn Qui",
      "userId": "17800040836516717575"
     },
     "user_tz": -420
    },
    "id": "iWPQDNyVEdZE",
    "outputId": "1e5323ee-d13f-4a8e-fc45-9a8cc56fa824"
   },
   "outputs": [
    {
     "name": "stderr",
     "output_type": "stream",
     "text": [
      "13:08:21 - cmdstanpy - INFO - Chain [1] start processing\n",
      "13:08:21 - cmdstanpy - INFO - Chain [1] done processing\n"
     ]
    },
    {
     "data": {
      "text/plain": [
       "<prophet.forecaster.Prophet at 0x1d5378d94c0>"
      ]
     },
     "execution_count": 51,
     "metadata": {},
     "output_type": "execute_result"
    }
   ],
   "source": [
    "# Huấn luyện mô hình\n",
    "model.fit(train_df[['ds', 'y'] + features])"
   ]
  },
  {
   "cell_type": "code",
   "execution_count": 52,
   "metadata": {
    "id": "-NJEihjGE7lj"
   },
   "outputs": [],
   "source": [
    "# Dự báo trên tập test\n",
    "future = test_df[['ds'] + features]\n",
    "forecast = model.predict(future)"
   ]
  },
  {
   "cell_type": "code",
   "execution_count": 53,
   "metadata": {
    "id": "sZYhWaX8E8b4"
   },
   "outputs": [],
   "source": [
    "# Gộp kết quả để đánh giá\n",
    "result = test_df[['ds', 'y']].copy()\n",
    "result['yhat'] = forecast['yhat'].values"
   ]
  },
  {
   "cell_type": "code",
   "execution_count": 54,
   "metadata": {
    "colab": {
     "base_uri": "https://localhost:8080/"
    },
    "executionInfo": {
     "elapsed": 13,
     "status": "ok",
     "timestamp": 1747633595374,
     "user": {
      "displayName": "Tấn Qui",
      "userId": "17800040836516717575"
     },
     "user_tz": -420
    },
    "id": "2-0nYxUHE-8S",
    "outputId": "9c9d98d3-aceb-4329-8974-1e13b4afd0b8"
   },
   "outputs": [
    {
     "name": "stdout",
     "output_type": "stream",
     "text": [
      "✅ MAE: 0.41, RMSE: 0.52\n"
     ]
    }
   ],
   "source": [
    "# Đánh giá mô hình\n",
    "from sklearn.metrics import mean_absolute_error, mean_squared_error\n",
    "import numpy as np\n",
    "\n",
    "mae = mean_absolute_error(result['y'], result['yhat'])\n",
    "rmse = np.sqrt(mean_squared_error(result['y'], result['yhat']))\n",
    "print(f\"✅ MAE: {mae:.2f}, RMSE: {rmse:.2f}\")"
   ]
  }
 ],
 "metadata": {
  "colab": {
   "authorship_tag": "ABX9TyMpB9+IP1QJzQNj61DPOVEK",
   "provenance": []
  },
  "kernelspec": {
   "display_name": "Python 3",
   "name": "python3"
  },
  "language_info": {
   "codemirror_mode": {
    "name": "ipython",
    "version": 3
   },
   "file_extension": ".py",
   "mimetype": "text/x-python",
   "name": "python",
   "nbconvert_exporter": "python",
   "pygments_lexer": "ipython3",
   "version": "3.12.1"
  }
 },
 "nbformat": 4,
 "nbformat_minor": 0
}
